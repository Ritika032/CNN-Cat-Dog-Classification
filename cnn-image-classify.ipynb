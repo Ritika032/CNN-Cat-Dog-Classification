{
 "cells": [
  {
   "cell_type": "code",
   "execution_count": 1,
   "id": "ba438086",
   "metadata": {},
   "outputs": [],
   "source": [
    "import numpy as np\n",
    "import random\n",
    "import matplotlib.pyplot as plt\n",
    "from tensorflow.keras.models import Sequential\n",
    "from tensorflow.keras.layers import Conv2D, MaxPooling2D, Dense, Flatten"
   ]
  },
  {
   "cell_type": "markdown",
   "id": "16145b9b",
   "metadata": {},
   "source": []
  },
  {
   "cell_type": "code",
   "execution_count": null,
   "id": "b3a679d0",
   "metadata": {},
   "outputs": [],
   "source": [
    "X_train = np.loadtxt('input.csv', delimiter =',' )\n",
    "Y_train = np.loadtxt('labels.csv', delimiter =',' )\n",
    "\n",
    "X_test = np.loadtxt('input_test.csv', delimiter =',' )\n",
    "Y_test = np.loadtxt('labels_test.csv', delimiter =',' )"
   ]
  },
  {
   "cell_type": "code",
   "execution_count": null,
   "id": "fe18821b",
   "metadata": {},
   "outputs": [],
   "source": [
    "X_train = X_train.reshape(len(X_train), 100, 100 , 3)\n",
    "Y_train = Y_train.reshape(len(Y_train), 1)\n",
    "\n",
    "X_test = X_test.reshape(len(X_test), 100, 100, 3)\n",
    "Y_test = Y_test.reshape(len(Y_test), 1)\n",
    "\n",
    "X_train = X_train/255.0\n",
    "X_test = X_test/255.0"
   ]
  },
  {
   "cell_type": "code",
   "execution_count": null,
   "id": "c1acc37a",
   "metadata": {},
   "outputs": [],
   "source": [
    "print(\"Shape of X_train: \" , X_train.shape)\n",
    "print(\"Shape of Y_train: \" , Y_train.shape)\n",
    "print(\"Shape of X_test: \" , X_test.shape)\n",
    "print(\"Shape of Y_test: \" , Y_test.shape)"
   ]
  },
  {
   "cell_type": "code",
   "execution_count": null,
   "id": "e4c39d86",
   "metadata": {},
   "outputs": [],
   "source": [
    "X_train[1, :]"
   ]
  },
  {
   "cell_type": "code",
   "execution_count": null,
   "id": "f9cd673a",
   "metadata": {
    "scrolled": false
   },
   "outputs": [],
   "source": [
    "idx = random.randint(0, len(X_train))\n",
    "plt.imshow(X_train[idx, :])\n",
    "plt.show()"
   ]
  },
  {
   "cell_type": "code",
   "execution_count": null,
   "id": "321352b7",
   "metadata": {},
   "outputs": [],
   "source": [
    "model = Sequential([\n",
    "    Conv2D(32, (3,3), activation = 'relu', input_shape = (100, 100, 3)),\n",
    "    MaxPooling2D((2,2)),\n",
    "    \n",
    "    Conv2D(32,(3,3), activation ='relu' ),\n",
    "    MaxPooling2D((2,2)),\n",
    "    \n",
    "    Flatten(),\n",
    "    Dense(64, activation ='relu'),\n",
    "    Dense(1, activation ='sigmoid' )\n",
    "])"
   ]
  },
  {
   "cell_type": "code",
   "execution_count": null,
   "id": "5342f656",
   "metadata": {},
   "outputs": [],
   "source": [
    "model = Sequential()\n",
    "\n",
    "model.add(Conv2D(32, (3,3), activation = 'relu', input_shape = (100, 100, 3)))\n",
    "model.add(MaxPooling2D((2,2)))\n",
    "\n",
    "model.add(Conv2D(32,(3,3), activation ='relu' ))\n",
    "model.add(MaxPooling2D((2,2)))\n",
    "\n",
    "model.add(Flatten())\n",
    "model.add(Dense(64, activation ='relu'))\n",
    "model.add(  Dense(1, activation ='sigmoid' ))\n"
   ]
  },
  {
   "cell_type": "code",
   "execution_count": null,
   "id": "1704b82b",
   "metadata": {},
   "outputs": [],
   "source": [
    "model.compile(loss = 'binary_crossentropy', optimizer = 'adam', metrics = ['accuracy'])"
   ]
  },
  {
   "cell_type": "code",
   "execution_count": null,
   "id": "1ddc7ff1",
   "metadata": {},
   "outputs": [],
   "source": [
    "model.fit(X_train, Y_train, epochs =5, batch_size=64)"
   ]
  },
  {
   "cell_type": "code",
   "execution_count": null,
   "id": "87b1b376",
   "metadata": {},
   "outputs": [],
   "source": [
    "model.evaluate(X_test, Y_test)"
   ]
  },
  {
   "cell_type": "code",
   "execution_count": null,
   "id": "a631263d",
   "metadata": {},
   "outputs": [],
   "source": [
    "idx2= random.randint(1, len(Y_test))\n",
    "plt.imshow(X_test[idx2, :])\n",
    "plt.show()\n",
    "y_pred = model.predict(X_test[idx2, :].reshape(1,100,100,3))\n",
    "y_pred = y_pred > 0.5\n",
    "if(y_pred ==0):\n",
    "    pred = 'dog'\n",
    "else:\n",
    "    pred = 'cat'\n",
    "print(\"Our model says it is a : \", pred )\n"
   ]
  },
  {
   "cell_type": "code",
   "execution_count": null,
   "id": "74cb36ce",
   "metadata": {},
   "outputs": [],
   "source": [
    "# #  for train dataset set plotting\n",
    "# # fig, axes = plt.subplots(nrows=2, ncols=5,figsize=(15,5))          \n",
    "# # ax = axes.ravel()\n",
    "# # for i in range(10):\n",
    "# #     ax[i].imshow(X_train[i].reshape(100,100,3))\n",
    "# #     ax[i].title.set_text('Class: Names' + str(Y_train[i]))              \n",
    "# # plt.subplots_adjust(hspace=0.5)                                    \n",
    "# # plt.show()\n",
    " \n",
    "# #   for test dataset set plotting\n",
    " \n",
    "fig, axes = plt.subplots(nrows=2, ncols=5,figsize=(15,5))          \n",
    "ax = axes.ravel()\n",
    "for i in range(10):\n",
    "    ax[i].imshow(X_test[i].reshape(100,100,3))\n",
    "    ax[i].title.set_text('Class Names: ' + str(Y_test[i]))              \n",
    "plt.subplots_adjust(hspace=0.5)                                    \n",
    "plt.show()\n"
   ]
  },
  {
   "cell_type": "code",
   "execution_count": null,
   "id": "acd483c5",
   "metadata": {},
   "outputs": [],
   "source": []
  },
  {
   "cell_type": "code",
   "execution_count": null,
   "id": "8330757c",
   "metadata": {},
   "outputs": [],
   "source": []
  }
 ],
 "metadata": {
  "kernelspec": {
   "display_name": "Python 3 (ipykernel)",
   "language": "python",
   "name": "python3"
  },
  "language_info": {
   "codemirror_mode": {
    "name": "ipython",
    "version": 3
   },
   "file_extension": ".py",
   "mimetype": "text/x-python",
   "name": "python",
   "nbconvert_exporter": "python",
   "pygments_lexer": "ipython3",
   "version": "3.10.0"
  }
 },
 "nbformat": 4,
 "nbformat_minor": 5
}
